{
 "cells": [
  {
   "cell_type": "code",
   "execution_count": null,
   "metadata": {
    "vscode": {
     "languageId": "plaintext"
    }
   },
   "outputs": [],
   "source": [
    "import networkx as nx\n",
    "import matplotlib.pyplot as plt\n",
    "import pandas as pd"
   ]
  },
  {
   "cell_type": "code",
   "execution_count": null,
   "metadata": {
    "vscode": {
     "languageId": "plaintext"
    }
   },
   "outputs": [],
   "source": [
    "# Load TSV file\n",
    "file_path = \"/content/soc-redditHyperlinks-body.tsv\"  # Change this to your file path\n",
    "df = pd.read_csv(file_path, sep='\\t', encoding=\"utf-8\")"
   ]
  },
  {
   "cell_type": "code",
   "execution_count": null,
   "metadata": {
    "vscode": {
     "languageId": "plaintext"
    }
   },
   "outputs": [],
   "source": [
    "# 解析 TIMESTAMP 字段为 datetime 格式\n",
    "df_body['TIMESTAMP'] = pd.to_datetime(df_body['TIMESTAMP'], errors='coerce')\n",
    "df_title['TIMESTAMP'] = pd.to_datetime(df_title['TIMESTAMP'], errors='coerce')\n",
    "\n",
    "# 将 POST_PROPERTIES 拆解为数值向量\n",
    "def expand_post_properties(df):\n",
    "    prop_expanded = df['POST_PROPERTIES'].str.split(',', expand=True)\n",
    "    prop_expanded = prop_expanded.apply(pd.to_numeric, errors='coerce')\n",
    "    prop_expanded.columns = [f'PROP_{i+1}' for i in range(prop_expanded.shape[1])]\n",
    "    return pd.concat([df.drop(columns=['POST_PROPERTIES']), prop_expanded], axis=1)\n",
    "\n",
    "# 分别处理 body 和 title 数据\n",
    "df_body_processed = expand_post_properties(df_body)\n",
    "df_title_processed = expand_post_properties(df_title)\n",
    "\n",
    "# 合并两个数据源，并标注来源\n",
    "df_body_processed['SOURCE'] = 'body'\n",
    "df_title_processed['SOURCE'] = 'title'\n",
    "\n",
    "df_all = pd.concat([df_body_processed, df_title_processed], ignore_index=True)\n",
    "\n",
    "import ace_tools as tools; tools.display_dataframe_to_user(name=\"Processed Reddit Hyperlink Data\", dataframe=df_all.head(100))\n"
   ]
  }
 ],
 "metadata": {
  "language_info": {
   "name": "python"
  }
 },
 "nbformat": 4,
 "nbformat_minor": 2
}
